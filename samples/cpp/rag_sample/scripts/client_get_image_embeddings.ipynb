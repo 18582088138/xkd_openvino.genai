{
 "cells": [
  {
   "cell_type": "code",
   "execution_count": 9,
   "metadata": {},
   "outputs": [],
   "source": [
    "import http.client\n",
    "\n",
    "def send_data_to_server(host, port, json_data):\n",
    "  try:\n",
    "    print(\"Init client \\n\")\n",
    "\n",
    "    conn = http.client.HTTPConnection(host, port, 30)\n",
    "    headers = {\"Content-Type\": \"application/json\"}  \n",
    "    conn.request(\"POST\", \"/db_init\")\n",
    "\n",
    "    response = conn.getresponse()\n",
    "    print(\"response.status: \", response.status)\n",
    "    if response.status == 200:\n",
    "        print(f\"Server response: {response.read().decode('utf-8')}\")\n",
    "    else:\n",
    "        print(f\"Error: Server returned status code {response.status}\")\n",
    "\n",
    "    conn.request(\"POST\", \"/image_embeddings_init\")\n",
    "    response = conn.getresponse()\n",
    "    print(\"response.status: \", response.status)\n",
    "    if response.status == 200:\n",
    "        print(f\"Server response: {response.read().decode('utf-8')}\")\n",
    "    else:\n",
    "        print(f\"Error: Server returned status code {response.status}\")\n",
    "\n",
    "    conn.request(\"POST\", \"/db_store_image_embeddings\", json_data, headers=headers)\n",
    "    response = conn.getresponse()\n",
    "    print(\"response.status: \", response.status)\n",
    "    if response.status == 200:\n",
    "        print(f\"Server response: {response.read().decode('utf-8')}\")\n",
    "    else:\n",
    "        print(f\"Error: Server returned status code {response.status}\")\n",
    "  finally:\n",
    "    conn.close()"
   ]
  },
  {
   "cell_type": "code",
   "execution_count": 10,
   "metadata": {},
   "outputs": [
    {
     "name": "stdout",
     "output_type": "stream",
     "text": [
      "Init client \n",
      "\n",
      "response.status:  200\n",
      "Server response: Init db success.\n",
      "response.status:  404\n",
      "Error: Server returned status code 404\n"
     ]
    },
    {
     "ename": "ResponseNotReady",
     "evalue": "Request-sent",
     "output_type": "error",
     "traceback": [
      "\u001b[1;31m---------------------------------------------------------------------------\u001b[0m",
      "\u001b[1;31mResponseNotReady\u001b[0m                          Traceback (most recent call last)",
      "Cell \u001b[1;32mIn[10], line 8\u001b[0m\n\u001b[0;32m      5\u001b[0m payload \u001b[38;5;241m=\u001b[39m {\u001b[38;5;124m\"\u001b[39m\u001b[38;5;124mdata\u001b[39m\u001b[38;5;124m\"\u001b[39m: [demo_image_path]}  \u001b[38;5;66;03m# Assuming sending chunks as JSON data\u001b[39;00m\n\u001b[0;32m      6\u001b[0m json_data \u001b[38;5;241m=\u001b[39m json\u001b[38;5;241m.\u001b[39mdumps(payload)\n\u001b[1;32m----> 8\u001b[0m \u001b[43msend_data_to_server\u001b[49m\u001b[43m(\u001b[49m\u001b[38;5;124;43m\"\u001b[39;49m\u001b[38;5;124;43m127.0.0.1\u001b[39;49m\u001b[38;5;124;43m\"\u001b[39;49m\u001b[43m,\u001b[49m\u001b[43m \u001b[49m\u001b[38;5;241;43m7890\u001b[39;49m\u001b[43m,\u001b[49m\u001b[43m \u001b[49m\u001b[43mjson_data\u001b[49m\u001b[43m)\u001b[49m\n",
      "Cell \u001b[1;32mIn[9], line 27\u001b[0m, in \u001b[0;36msend_data_to_server\u001b[1;34m(host, port, json_data)\u001b[0m\n\u001b[0;32m     24\u001b[0m     \u001b[38;5;28mprint\u001b[39m(\u001b[38;5;124mf\u001b[39m\u001b[38;5;124m\"\u001b[39m\u001b[38;5;124mError: Server returned status code \u001b[39m\u001b[38;5;132;01m{\u001b[39;00mresponse\u001b[38;5;241m.\u001b[39mstatus\u001b[38;5;132;01m}\u001b[39;00m\u001b[38;5;124m\"\u001b[39m)\n\u001b[0;32m     26\u001b[0m conn\u001b[38;5;241m.\u001b[39mrequest(\u001b[38;5;124m\"\u001b[39m\u001b[38;5;124mPOST\u001b[39m\u001b[38;5;124m\"\u001b[39m, \u001b[38;5;124m\"\u001b[39m\u001b[38;5;124m/db_store_image_embeddings\u001b[39m\u001b[38;5;124m\"\u001b[39m, json_data, headers\u001b[38;5;241m=\u001b[39mheaders)\n\u001b[1;32m---> 27\u001b[0m response \u001b[38;5;241m=\u001b[39m \u001b[43mconn\u001b[49m\u001b[38;5;241;43m.\u001b[39;49m\u001b[43mgetresponse\u001b[49m\u001b[43m(\u001b[49m\u001b[43m)\u001b[49m\n\u001b[0;32m     28\u001b[0m \u001b[38;5;28mprint\u001b[39m(\u001b[38;5;124m\"\u001b[39m\u001b[38;5;124mresponse.status: \u001b[39m\u001b[38;5;124m\"\u001b[39m, response\u001b[38;5;241m.\u001b[39mstatus)\n\u001b[0;32m     29\u001b[0m \u001b[38;5;28;01mif\u001b[39;00m response\u001b[38;5;241m.\u001b[39mstatus \u001b[38;5;241m==\u001b[39m \u001b[38;5;241m200\u001b[39m:\n",
      "File \u001b[1;32mc:\\Users\\chuxd\\miniconda3\\envs\\ov_rag\\Lib\\http\\client.py:1385\u001b[0m, in \u001b[0;36mHTTPConnection.getresponse\u001b[1;34m(self)\u001b[0m\n\u001b[0;32m   1369\u001b[0m \u001b[38;5;66;03m# if a prior response exists, then it must be completed (otherwise, we\u001b[39;00m\n\u001b[0;32m   1370\u001b[0m \u001b[38;5;66;03m# cannot read this response's header to determine the connection-close\u001b[39;00m\n\u001b[0;32m   1371\u001b[0m \u001b[38;5;66;03m# behavior)\u001b[39;00m\n\u001b[1;32m   (...)\u001b[0m\n\u001b[0;32m   1382\u001b[0m \u001b[38;5;66;03m#                  isclosed() status to become true.\u001b[39;00m\n\u001b[0;32m   1383\u001b[0m \u001b[38;5;66;03m#\u001b[39;00m\n\u001b[0;32m   1384\u001b[0m \u001b[38;5;28;01mif\u001b[39;00m \u001b[38;5;28mself\u001b[39m\u001b[38;5;241m.\u001b[39m__state \u001b[38;5;241m!=\u001b[39m _CS_REQ_SENT \u001b[38;5;129;01mor\u001b[39;00m \u001b[38;5;28mself\u001b[39m\u001b[38;5;241m.\u001b[39m__response:\n\u001b[1;32m-> 1385\u001b[0m     \u001b[38;5;28;01mraise\u001b[39;00m ResponseNotReady(\u001b[38;5;28mself\u001b[39m\u001b[38;5;241m.\u001b[39m__state)\n\u001b[0;32m   1387\u001b[0m \u001b[38;5;28;01mif\u001b[39;00m \u001b[38;5;28mself\u001b[39m\u001b[38;5;241m.\u001b[39mdebuglevel \u001b[38;5;241m>\u001b[39m \u001b[38;5;241m0\u001b[39m:\n\u001b[0;32m   1388\u001b[0m     response \u001b[38;5;241m=\u001b[39m \u001b[38;5;28mself\u001b[39m\u001b[38;5;241m.\u001b[39mresponse_class(\u001b[38;5;28mself\u001b[39m\u001b[38;5;241m.\u001b[39msock, \u001b[38;5;28mself\u001b[39m\u001b[38;5;241m.\u001b[39mdebuglevel,\n\u001b[0;32m   1389\u001b[0m                                    method\u001b[38;5;241m=\u001b[39m\u001b[38;5;28mself\u001b[39m\u001b[38;5;241m.\u001b[39m_method)\n",
      "\u001b[1;31mResponseNotReady\u001b[0m: Request-sent"
     ]
    }
   ],
   "source": [
    "import os\n",
    "import json\n",
    "\n",
    "demo_image_path = os.path.abspath(\"demo.png\")\n",
    "payload = {\"data\": [demo_image_path]}  # Assuming sending chunks as JSON data\n",
    "json_data = json.dumps(payload)\n",
    "\n",
    "send_data_to_server(\"127.0.0.1\", 7890, json_data)"
   ]
  }
 ],
 "metadata": {
  "kernelspec": {
   "display_name": "ov_rag",
   "language": "python",
   "name": "python3"
  },
  "language_info": {
   "codemirror_mode": {
    "name": "ipython",
    "version": 3
   },
   "file_extension": ".py",
   "mimetype": "text/x-python",
   "name": "python",
   "nbconvert_exporter": "python",
   "pygments_lexer": "ipython3",
   "version": "3.11.9"
  }
 },
 "nbformat": 4,
 "nbformat_minor": 2
}
