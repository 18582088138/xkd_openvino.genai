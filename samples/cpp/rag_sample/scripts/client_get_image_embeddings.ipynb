{
 "cells": [
  {
   "cell_type": "code",
   "execution_count": 20,
   "metadata": {},
   "outputs": [],
   "source": [
    "import http.client\n",
    "\n",
    "def send_data_to_server(host, port, json_data):\n",
    "  try:\n",
    "    print(\"Init client \\n\")\n",
    "\n",
    "    conn = http.client.HTTPConnection(host, port)\n",
    "    headers = {\"Content-Type\": \"application/json\"}  \n",
    "    conn.request(\"POST\", \"/db_init\")\n",
    "\n",
    "    response = conn.getresponse()\n",
    "    print(\"response.status: \", response.status)\n",
    "    if response.status == 200:\n",
    "        print(f\"Server response: {response.read().decode('utf-8')}\")\n",
    "    else:\n",
    "        print(f\"Error: Server returned status code {response.status}\")\n",
    "\n",
    "    conn.request(\"POST\", \"/image_embeddings_init\")\n",
    "    response = conn.getresponse()\n",
    "    print(\"response.status: \", response.status)\n",
    "    if response.status == 200:\n",
    "        print(f\"Server response: {response.read().decode('utf-8')}\")\n",
    "    else:\n",
    "        print(f\"Error: Server returned status code {response.status}\")\n",
    "\n",
    "    conn.request(\"POST\", \"/db_store_image_embeddings\", json_data, headers=headers)\n",
    "    response = conn.getresponse()\n",
    "    print(\"response.status: \", response.status)\n",
    "    if response.status == 200:\n",
    "        print(f\"Server response: {response.read().decode('utf-8')}\")\n",
    "    else:\n",
    "        print(f\"Error: Server returned status code {response.status}\")\n",
    "  finally:\n",
    "    conn.close()"
   ]
  },
  {
   "cell_type": "markdown",
   "metadata": {},
   "source": [
    "Here we provide 100 images from `coco2017/val2017`, unzip the `samples\\cpp\\rag_sample\\scripts\\val2017_100.zip` in folder `samples\\cpp\\rag_sample\\scripts\\` "
   ]
  },
  {
   "cell_type": "code",
   "execution_count": 19,
   "metadata": {},
   "outputs": [
    {
     "name": "stdout",
     "output_type": "stream",
     "text": [
      "Init client \n",
      "\n",
      "response.status:  200\n",
      "Server response: Init db success.\n",
      "response.status:  200\n",
      "Server response: Init image embeddings success.\n",
      "response.status:  200\n",
      "Server response: insert success\n"
     ]
    }
   ],
   "source": [
    "import os\n",
    "import json\n",
    "\n",
    "def is_image_file(filename):\n",
    "    image_extensions = {'.jpg', '.jpeg', '.png', '.gif', '.bmp', '.tiff', '.webp'}\n",
    "    _, ext = os.path.splitext(filename)\n",
    "    return ext.lower() in image_extensions\n",
    "\n",
    "def find_images_in_directory(directory_path):\n",
    "    image_paths = []\n",
    "    for root, _, files in os.walk(directory_path):\n",
    "        for file in files:\n",
    "            if is_image_file(file):\n",
    "                image_paths.append(os.path.abspath(os.path.join(root, file)))\n",
    "    return image_paths\n",
    "images = find_images_in_directory(\"val2017_100\")\n",
    "demo_image_path = os.path.abspath(\"demo.png\")\n",
    "images = [demo_image_path] + images\n",
    "payload = {\"data\": images}\n",
    "json_data = json.dumps(payload)\n",
    "\n",
    "send_data_to_server(\"127.0.0.1\", 7890, json_data)"
   ]
  }
 ],
 "metadata": {
  "kernelspec": {
   "display_name": "ov_rag",
   "language": "python",
   "name": "python3"
  },
  "language_info": {
   "codemirror_mode": {
    "name": "ipython",
    "version": 3
   },
   "file_extension": ".py",
   "mimetype": "text/x-python",
   "name": "python",
   "nbconvert_exporter": "python",
   "pygments_lexer": "ipython3",
   "version": "3.11.9"
  }
 },
 "nbformat": 4,
 "nbformat_minor": 2
}
